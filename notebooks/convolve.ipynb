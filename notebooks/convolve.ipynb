{
 "cells": [
  {
   "cell_type": "code",
   "execution_count": null,
   "metadata": {},
   "outputs": [],
   "source": [
    "import torch\n",
    "import torch.nn as nn\n",
    "import matplotlib.pyplot as plt \n",
    "import numpy as np"
   ]
  },
  {
   "cell_type": "code",
   "execution_count": null,
   "metadata": {},
   "outputs": [],
   "source": [
    "win = torch.ones(1, 1, 50)/50\n",
    "win.requires_grad = False\n",
    "inp = torch.rand(1, 1, 500)\n",
    "inp.requires_grad = False\n",
    "conv = nn.Conv1d(in_channels=1, out_channels=1, kernel_size=6, padding=2, bias=False)\n",
    "out = conv(inp)\n",
    "# out\n",
    "plt.figure(figsize=(30,2))\n",
    "plt.plot(inp[0,0].detach().numpy(), label='inp', color='green')\n",
    "plt.plot(out[0,0].detach().numpy(), label='out', color='red')\n",
    "plt.grid()\n",
    "plt.legend(loc=2)"
   ]
  },
  {
   "cell_type": "code",
   "execution_count": null,
   "metadata": {},
   "outputs": [],
   "source": [
    "N = 1000\n",
    "t = 50\n",
    "a = []\n",
    "for i in range(N):\n",
    "    x = float((i//t) % 2)\n",
    "    a.append(x)\n",
    "na = np.array(a)\n",
    "ta = torch.tensor(na, dtype=torch.float32)\n",
    "inp = ta.reshape(1, 1, -1)\n",
    "print(inp.shape)\n",
    "# inp = torch.rand(1, 1, 500)\n",
    "# print(inp.shape)\n",
    "inp.requires_grad = False\n",
    "win = torch.ones(1, 1, 50)/50\n",
    "win.requires_grad = False\n",
    "conv = nn.Conv1d(in_channels=1, out_channels=1, kernel_size=6, padding=2, bias=False)\n",
    "out = conv(inp)\n",
    "# out\n",
    "plt.figure(figsize=(30,2))\n",
    "plt.plot(inp[0,0].detach().numpy(), label='inp', color='green')\n",
    "plt.plot(out[0,0].detach().numpy(), label='out', color='red')\n",
    "plt.grid()\n",
    "plt.legend(loc=2)"
   ]
  },
  {
   "cell_type": "code",
   "execution_count": null,
   "metadata": {},
   "outputs": [],
   "source": [
    "N = 1000\n",
    "t = 10\n",
    "f = 4\n",
    "a = []\n",
    "for i in range(N):\n",
    "    x = float((i//t) % 2)\n",
    "    a.append(x)\n",
    "#inp = np.array(a)\n",
    "inp = np.random.rand(N)\n",
    "out = np.convolve(inp, np.ones(f)/f, mode='valid')\n",
    "plt.figure(figsize=(30,2))\n",
    "plt.plot(inp, label='inp', color='green')\n",
    "plt.plot(out, label='out', color='red')\n",
    "plt.grid()\n",
    "plt.legend(loc=2)"
   ]
  },
  {
   "cell_type": "code",
   "execution_count": null,
   "metadata": {},
   "outputs": [],
   "source": [
    "inp = np.random.rand(2, N)\n",
    "win = np.ones(f)/f\n",
    "out = np.apply_along_axis(lambda m: np.convolve(m, win, mode='full'), axis=1, arr=inp)\n",
    "plt.figure(figsize=(30,2))\n",
    "plt.plot(inp[0], label='inp0', color='green')\n",
    "plt.plot(out[0], label='out0', color='red')\n",
    "plt.plot(inp[1] + 1.0, label='inp1', color='green')\n",
    "plt.plot(out[1] + 1.0, label='out1', color='red')\n",
    "plt.grid()\n",
    "plt.legend(loc=2)"
   ]
  },
  {
   "cell_type": "code",
   "execution_count": null,
   "metadata": {},
   "outputs": [],
   "source": []
  }
 ],
 "metadata": {
  "kernelspec": {
   "display_name": "Python 3",
   "language": "python",
   "name": "python3"
  },
  "language_info": {
   "codemirror_mode": {
    "name": "ipython",
    "version": 3
   },
   "file_extension": ".py",
   "mimetype": "text/x-python",
   "name": "python",
   "nbconvert_exporter": "python",
   "pygments_lexer": "ipython3",
   "version": "3.7.8"
  }
 },
 "nbformat": 4,
 "nbformat_minor": 4
}
