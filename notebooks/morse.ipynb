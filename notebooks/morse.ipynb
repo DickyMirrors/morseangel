{
 "cells": [
  {
   "cell_type": "code",
   "execution_count": null,
   "metadata": {},
   "outputs": [],
   "source": [
    "import numpy as np\n",
    "import matplotlib.pyplot as plt\n",
    "import MorseGen\n",
    "\n",
    "morse_gen = MorseGen.Morse()\n",
    "Fs = 8000\n",
    "samples_per_dit = morse_gen.nb_samples_per_dit(Fs, 13)\n",
    "phrase = \"VVV DE F4EXB VVV DE F4EXB VVV DE F4EXB VVV DE F4EXB VVV DE F4EXB VVV DE F4EXB VVV DE F4EXB VVV DE F4EXB VVV DE F4EXB VVV DE F4EXB VVV DE F4EXB \"\n",
    "label_df0 = morse_gen.encode_df_decim(phrase, samples_per_dit, 128)\n",
    "label_df1 = morse_gen.encode_df_decim(phrase, samples_per_dit, 128, samples_per_dit*0.15)"
   ]
  },
  {
   "cell_type": "code",
   "execution_count": null,
   "metadata": {},
   "outputs": [],
   "source": [
    "# Show    \n",
    "x0 = 0\n",
    "x1 = 800\n",
    "\n",
    "plt.figure(figsize=(50,6))\n",
    "plt.plot(label_df0[x0:x1].env*0.9 + 0.0, label='df0')\n",
    "plt.plot(label_df1[x0:x1].env*0.9 + 1.0, label='df1')\n",
    "plt.title(\"signal and labels\")\n",
    "plt.legend()\n",
    "plt.grid()"
   ]
  },
  {
   "cell_type": "code",
   "execution_count": null,
   "metadata": {},
   "outputs": [],
   "source": [
    "morsestr = MorseGen.get_morse_str()\n",
    "print(len(morsestr), morsestr)"
   ]
  },
  {
   "cell_type": "code",
   "execution_count": null,
   "metadata": {},
   "outputs": [],
   "source": [
    "morsestr = MorseGen.get_morse_str(nchars=26, nwords=6, chars=morse_gen.alphabet)\n",
    "print(len(morsestr), morsestr)"
   ]
  },
  {
   "cell_type": "code",
   "execution_count": null,
   "metadata": {},
   "outputs": [],
   "source": [
    "label_df_str = morse_gen.encode_df_decim_str(morsestr, samples_per_dit, 128, morse_gen.alphabet)\n",
    "print(morsestr)\n",
    "print(len(morse_gen.alphabet))"
   ]
  },
  {
   "cell_type": "code",
   "execution_count": null,
   "metadata": {},
   "outputs": [],
   "source": [
    "plt.figure(figsize=(50,3+0.5*len(morse_gen.alphabet)))\n",
    "plt.plot(label_df_str[x0:x1].env*0.9 + 0.0, label='env')\n",
    "plt.plot(label_df_str[x0:x1].dit*0.9 + 1.0, label='dit')\n",
    "plt.plot(label_df_str[x0:x1].dah*0.9 + 1.0, label='dah')\n",
    "plt.plot(label_df_str[x0:x1].ele*0.9 + 2.0, label='ele')\n",
    "plt.plot(label_df_str[x0:x1].chr*0.9 + 2.0, label='chr')\n",
    "plt.plot(label_df_str[x0:x1].wrd*0.9 + 2.0, label='wrd')\n",
    "for i, a in enumerate(morse_gen.alphabet):\n",
    "    plt.plot(label_df_str[x0:x1][a]*0.9 + 3.0 + i, label=a)\n",
    "plt.title(\"signal and labels\")\n",
    "plt.legend()\n",
    "plt.grid()"
   ]
  },
  {
   "cell_type": "code",
   "execution_count": null,
   "metadata": {},
   "outputs": [],
   "source": [
    "morsestr = MorseGen.get_morse_str(nchars=26, nwords=6, chars=morse_gen.alphabet6)\n",
    "print(morse_gen.alphabet6)\n",
    "print(len(morsestr), morsestr)"
   ]
  },
  {
   "cell_type": "code",
   "execution_count": null,
   "metadata": {},
   "outputs": [],
   "source": [
    "label_df_str = morse_gen.encode_df_decim_str(morsestr, samples_per_dit, 128, morse_gen.alphabet6)\n",
    "print(morsestr)\n",
    "print(len(morse_gen.alphabet6))"
   ]
  },
  {
   "cell_type": "code",
   "execution_count": null,
   "metadata": {},
   "outputs": [],
   "source": [
    "plt.figure(figsize=(50,3+0.5*len(morse_gen.alphabet6)))\n",
    "plt.plot(label_df_str[x0:x1].env*0.9 + 0.0, label='env')\n",
    "plt.plot(label_df_str[x0:x1].dit*0.9 + 1.0, label='dit')\n",
    "plt.plot(label_df_str[x0:x1].dah*0.9 + 1.0, label='dah')\n",
    "plt.plot(label_df_str[x0:x1].ele*0.9 + 2.0, label='ele')\n",
    "plt.plot(label_df_str[x0:x1].chr*0.9 + 2.0, label='chr')\n",
    "plt.plot(label_df_str[x0:x1].wrd*0.9 + 2.0, label='wrd')\n",
    "for i, a in enumerate(morse_gen.alphabet6):\n",
    "    plt.plot(label_df_str[x0:x1][a]*0.9 + 3.0 + i, label=a)\n",
    "plt.title(\"signal and labels\")\n",
    "plt.legend()\n",
    "plt.grid()"
   ]
  },
  {
   "cell_type": "code",
   "execution_count": null,
   "metadata": {},
   "outputs": [],
   "source": [
    "cols = {\"env\": 1.0}\n",
    "elt_count = 1\n",
    "ditp = {f'{i}d': 1.0 if i == elt_count else 0.0 for i in range(3)}\n",
    "dahp = {f'{i}D': 1.0 if i == elt_count else 0.0  for i in range(3)}\n",
    "{**cols, **ditp, **dahp}"
   ]
  },
  {
   "cell_type": "code",
   "execution_count": null,
   "metadata": {},
   "outputs": [],
   "source": [
    "a = [\"Thor\", \"Odin\"]\n",
    "b = [\"Frier\"]\n",
    "c = [\"Freia\"]\n",
    "a + b + c"
   ]
  },
  {
   "cell_type": "code",
   "execution_count": null,
   "metadata": {},
   "outputs": [],
   "source": [
    "import random, string\n",
    "\n",
    "def random_partition(k, iterable):\n",
    "    results = [[] for i in range(k)]\n",
    "    for value in iterable:\n",
    "        x = random.randrange(k)\n",
    "        results[x].append(value)\n",
    "    return results\n",
    "\n",
    "def random_strings(k, rawchars):\n",
    "    results = [\"\" for i in range(k)]\n",
    "    for c in rawchars:\n",
    "        x = random.randrange(k)\n",
    "        results[x] += c\n",
    "    return results\n",
    "\n",
    "def get_morse_str(nchars=132, nwords=27, chars=None):\n",
    "    if not chars:\n",
    "        chars = string.ascii_uppercase + string.digits\n",
    "    rawchars = ''.join(random.choice(chars) for _ in range(nchars))\n",
    "    words = random_strings(nwords, rawchars)\n",
    "    morsestr = ' '.join(words)\n",
    "    return morsestr\n",
    "\n",
    "def get_morse_eles(nchars=132, nwords=27, max_elt=5):\n",
    "    neles = nchars*2\n",
    "    raweles = ''.join(random.choice(\".-\") for _ in range(neles))\n",
    "    morse_chars = []\n",
    "    while len(raweles) > 0:\n",
    "        s = random.choice(list(range(1, max_elt+1)))\n",
    "        morse_chars.append(raweles[:s])\n",
    "        raweles = raweles[s:]\n",
    "    return random_partition(nwords, morse_chars)\n",
    "\n"
   ]
  },
  {
   "cell_type": "code",
   "execution_count": null,
   "metadata": {},
   "outputs": [],
   "source": [
    "cwss = get_morse_eles(max_elt=4)\n",
    "cws = list(map(lambda x: ' '.join(x), cwss))\n",
    "cw = ' _'.join(cws)\n",
    "cw"
   ]
  },
  {
   "cell_type": "code",
   "execution_count": null,
   "metadata": {},
   "outputs": [],
   "source": [
    "import MorseGen\n",
    "morse_gen = MorseGen.Morse()\n",
    "teststr = \"F5SFU DE F4EXB = R TNX RPT ES INFO ALEX = RIG IS FTDX1200 PWR 100W ANT IS YAGI = WX IS SUNNY ES WARM 32C = HW AR F5SFU DE F4EXB KN\"\n",
    "morse_gen.cws_to_cwss(teststr)"
   ]
  },
  {
   "cell_type": "code",
   "execution_count": null,
   "metadata": {},
   "outputs": [],
   "source": []
  }
 ],
 "metadata": {
  "kernelspec": {
   "display_name": "Python 3",
   "language": "python",
   "name": "python3"
  },
  "language_info": {
   "codemirror_mode": {
    "name": "ipython",
    "version": 3
   },
   "file_extension": ".py",
   "mimetype": "text/x-python",
   "name": "python",
   "nbconvert_exporter": "python",
   "pygments_lexer": "ipython3",
   "version": "3.8.6"
  }
 },
 "nbformat": 4,
 "nbformat_minor": 4
}
