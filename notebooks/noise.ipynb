{
 "cells": [
  {
   "cell_type": "code",
   "execution_count": null,
   "metadata": {},
   "outputs": [],
   "source": [
    "import numpy as np\n",
    "import matplotlib.pyplot as plt \n",
    "\n",
    "def power(x):\n",
    "    return np.sum(x**2)/len(x)\n",
    "\n",
    "sig_l = []\n",
    "for i in range(1000):\n",
    "    sig_l.append((i // 50) % 2)\n",
    "sig = np.array(sig_l)"
   ]
  },
  {
   "cell_type": "code",
   "execution_count": null,
   "metadata": {},
   "outputs": [],
   "source": [
    "sig_power = power(sig)\n",
    "print(sig_power)"
   ]
  },
  {
   "cell_type": "code",
   "execution_count": null,
   "metadata": {},
   "outputs": [],
   "source": [
    "SNR_dB = 20\n",
    "SNR_linear = 10.0**(SNR_dB/10.0)\n",
    "print(SNR_linear)\n",
    "noise_power = sig_power / SNR_linear\n",
    "print(noise_power)"
   ]
  },
  {
   "cell_type": "code",
   "execution_count": null,
   "metadata": {},
   "outputs": [],
   "source": [
    "noise = np.sqrt(noise_power)*np.random.normal(0, 1, len(sig))\n",
    "\n",
    "print(power(noise))\n",
    "\n",
    "plt.figure(figsize=(25,4))\n",
    "plt.plot(sig, label='sig')\n",
    "plt.plot(noise, label='nse')\n",
    "plt.title(\"signal and noise\")\n",
    "plt.legend()\n",
    "plt.grid()"
   ]
  },
  {
   "cell_type": "code",
   "execution_count": null,
   "metadata": {},
   "outputs": [],
   "source": []
  }
 ],
 "metadata": {
  "kernelspec": {
   "display_name": "Python 3",
   "language": "python",
   "name": "python3"
  },
  "language_info": {
   "codemirror_mode": {
    "name": "ipython",
    "version": 3
   },
   "file_extension": ".py",
   "mimetype": "text/x-python",
   "name": "python",
   "nbconvert_exporter": "python",
   "pygments_lexer": "ipython3",
   "version": "3.7.8"
  }
 },
 "nbformat": 4,
 "nbformat_minor": 4
}
