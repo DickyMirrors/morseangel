{
 "cells": [
  {
   "cell_type": "markdown",
   "metadata": {},
   "source": [
    "### Batches and epochs\n",
    "A training dataset can be divided into one or more batches\n",
    "\n",
    "  - Batch Gradient Descent. Batch Size = Size of Training Set\n",
    "  - Stochastic Gradient Descent. Batch Size = 1\n",
    "  - Mini-Batch Gradient Descent. 1 < Batch Size < Size of Training Set\n",
    "  \n",
    "The number of epochs defines the number times that the learning algorithm will work through the entire training dataset."
   ]
  },
  {
   "cell_type": "code",
   "execution_count": null,
   "metadata": {},
   "outputs": [],
   "source": [
    "import pandas as pd\n",
    "import numpy as np\n",
    "\n",
    "label_df = pd.DataFrame(data=np.arange(0,30).reshape(10,3),columns=['env','dit','dah'])\n",
    "label_df"
   ]
  },
  {
   "cell_type": "markdown",
   "metadata": {},
   "source": [
    "Let's say 'env' column is time series (1 dim) and 'dit', 'dah' the labels (2 dim)"
   ]
  },
  {
   "cell_type": "code",
   "execution_count": null,
   "metadata": {},
   "outputs": [],
   "source": [
    "ts_df = label_df.drop(columns=['dit','dah'])\n",
    "print(type(ts_df))\n",
    "ts_df"
   ]
  },
  {
   "cell_type": "code",
   "execution_count": null,
   "metadata": {},
   "outputs": [],
   "source": [
    "label_df.drop(columns=['env'], inplace=True)\n",
    "label_df"
   ]
  },
  {
   "cell_type": "markdown",
   "metadata": {},
   "source": [
    "Float tensors can be built directly from Pandas data series or data sets"
   ]
  },
  {
   "cell_type": "code",
   "execution_count": null,
   "metadata": {},
   "outputs": [],
   "source": [
    "import torch\n",
    "\n",
    "t_X = torch.FloatTensor(ts_df.values)\n",
    "print(t_X.shape, t_X.__len__())\n",
    "t_y = torch.FloatTensor(label_df.values)\n",
    "print(t_y.shape)"
   ]
  },
  {
   "cell_type": "markdown",
   "metadata": {},
   "source": [
    "The time series dataset will return an element of the batch that is a pair of X and corresponding y label values. For X this is a window on the time series starting at `index` for the length of `seq_len` and for y the label at `index + seq_len` that are the values to predict at `t+1` for the window of length `seq_len` ending at `t`."
   ]
  },
  {
   "cell_type": "code",
   "execution_count": null,
   "metadata": {},
   "outputs": [],
   "source": [
    "class TimeSeriesDataset(torch.utils.data.Dataset):\n",
    "    def __init__(self, X, y, seq_len=1):\n",
    "        self.X = torch.FloatTensor(X.values) # X is a Pandas dataset\n",
    "        self.y = torch.FloatTensor(y.values) # y is a Pandas dataset\n",
    "        self.seq_len = seq_len\n",
    "        \n",
    "    def __len__(self):\n",
    "        return self.X.__len__() - self.seq_len\n",
    "    \n",
    "    def __getitem__(self, index):\n",
    "        return (self.X[index:index+self.seq_len], self.y[index+self.seq_len])"
   ]
  },
  {
   "cell_type": "markdown",
   "metadata": {},
   "source": [
    "This creates the data loader from the dataset. We verify that the shape of X is sizes of `batch, sequence, input` ready to be consumed by a LSTM with `batch_first=True` and y shape is size of `batch, labels`"
   ]
  },
  {
   "cell_type": "code",
   "execution_count": null,
   "metadata": {},
   "outputs": [],
   "source": [
    "train_dataset = TimeSeriesDataset(ts_df, label_df, 3)\n",
    "train_loader = torch.utils.data.DataLoader(train_dataset, batch_size=2, shuffle=False)\n",
    "print(len(train_loader))\n",
    "X_item, y_item = next(iter(train_loader))\n",
    "print(X_item.shape)\n",
    "print(X_item)\n",
    "print(y_item.shape)\n",
    "print(y_item)"
   ]
  },
  {
   "cell_type": "code",
   "execution_count": null,
   "metadata": {},
   "outputs": [],
   "source": []
  }
 ],
 "metadata": {
  "kernelspec": {
   "display_name": "Python 3",
   "language": "python",
   "name": "python3"
  },
  "language_info": {
   "codemirror_mode": {
    "name": "ipython",
    "version": 3
   },
   "file_extension": ".py",
   "mimetype": "text/x-python",
   "name": "python",
   "nbconvert_exporter": "python",
   "pygments_lexer": "ipython3",
   "version": "3.7.8"
  }
 },
 "nbformat": 4,
 "nbformat_minor": 4
}
