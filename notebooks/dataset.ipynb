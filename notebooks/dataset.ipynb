{
 "cells": [
  {
   "cell_type": "markdown",
   "metadata": {},
   "source": [
    "# Create datasets for Morse training\n",
    "## Base functions"
   ]
  },
  {
   "cell_type": "code",
   "execution_count": null,
   "metadata": {},
   "outputs": [],
   "source": [
    "import random\n",
    "import string\n",
    "import numpy as np\n",
    "\n",
    "def random_partition(k, iterable):\n",
    "    results = [[] for i in range(k)]\n",
    "    for value in iterable:\n",
    "        x = random.randrange(k)\n",
    "        results[x].append(value)\n",
    "    return results\n",
    "\n",
    "def random_strings(k, rawchars):\n",
    "    results = [\"\" for i in range(k)]\n",
    "    for c in rawchars:\n",
    "        x = random.randrange(k)\n",
    "        results[x] += c\n",
    "    return results\n",
    "\n",
    "def get_morse_str(nchars=132, nwords=27):\n",
    "    np.random.seed(0)\n",
    "    rawchars = ''.join(random.choice(string.ascii_uppercase + string.digits) for _ in range(nchars))\n",
    "    words = random_strings(nwords, rawchars)\n",
    "    morsestr = ' '.join(words)\n",
    "    return morsestr\n",
    "    "
   ]
  },
  {
   "cell_type": "markdown",
   "metadata": {},
   "source": [
    "Try it ..."
   ]
  },
  {
   "cell_type": "code",
   "execution_count": null,
   "metadata": {},
   "outputs": [],
   "source": [
    "morsestr = get_morse_str()\n",
    "print(len(morsestr), morsestr)"
   ]
  },
  {
   "cell_type": "markdown",
   "metadata": {},
   "source": [
    "## Dataset for Morse keying training (dits and dahs)\n",
    "### Signal and labels "
   ]
  },
  {
   "cell_type": "code",
   "execution_count": null,
   "metadata": {},
   "outputs": [],
   "source": [
    "import MorseGen\n",
    "import matplotlib.pyplot as plt \n",
    "import numpy as np\n",
    "\n",
    "def get_new_data(SNR_dB=-23, nchars=132, nwords=27):\n",
    "    phrase = get_morse_str(nchars=nchars, nwords=nwords)\n",
    "    print(len(phrase), phrase)\n",
    "    Fs = 8000\n",
    "    morse_gen = MorseGen.Morse()\n",
    "    samples_per_dit = morse_gen.nb_samples_per_dit(Fs, 13)\n",
    "    n_prev = int((samples_per_dit/128)*12) + 1 # number of samples to look back is slightly more than a dit-dah and a word space (2+3+7=12)\n",
    "    print(f'Samples per dit at {Fs} Hz is {samples_per_dit}. Decimation is {samples_per_dit/128:.2f}. Look back is {n_prev}.')\n",
    "    label_df = morse_gen.encode_df_decim(phrase, samples_per_dit, 128)\n",
    "    # keep the envelope\n",
    "    label_df_env = label_df.drop(columns=['dit','dah', 'ele', 'chr', 'wrd'])\n",
    "    # remove the envelope\n",
    "    label_df.drop(columns=['env'], inplace=True)\n",
    "    SNR_linear = 10.0**(SNR_dB/10.0)\n",
    "    SNR_linear *= 256 # Apply original FFT\n",
    "    print(f'Resulting SNR for original {SNR_dB} dB is {(10.0 * np.log10(SNR_linear)):.2f} dB')\n",
    "    t = np.linspace(0, len(label_df_env)-1, len(label_df_env))\n",
    "    morsecode = label_df_env.env\n",
    "    power = morsecode.var()\n",
    "    noise_power = power/SNR_linear\n",
    "    noise = np.sqrt(noise_power)*np.random.normal(0, 1, len(morsecode))\n",
    "    # noise = butter_lowpass_filter(raw_noise, 0.9, 3) # Noise is also filtered in the original setup from audio. This empirically simulates it\n",
    "    signal = morsecode + noise\n",
    "    return signal, label_df, n_prev\n",
    "    "
   ]
  },
  {
   "cell_type": "markdown",
   "metadata": {},
   "source": [
    "Try it ..."
   ]
  },
  {
   "cell_type": "code",
   "execution_count": null,
   "metadata": {},
   "outputs": [],
   "source": [
    "signal, label_df, n_prev = get_new_data(-10)\n",
    "\n",
    "# Show\n",
    "print(n_prev)\n",
    "print(type(signal), signal.shape)\n",
    "print(type(label_df), label_df.shape)\n",
    "    \n",
    "x0 = 0\n",
    "x1 = 1500\n",
    "\n",
    "plt.figure(figsize=(50,6))\n",
    "plt.plot(signal[x0:x1]*0.5, label=\"sig\")\n",
    "plt.plot(label_df[x0:x1].dit*0.9 + 1.0, label='dit')\n",
    "plt.plot(label_df[x0:x1].dah*0.9 + 2.0, label='dah')\n",
    "plt.plot(label_df[x0:x1].ele*0.9 + 3.0, label='ele')\n",
    "plt.plot(label_df[x0:x1].chr*0.9 + 4.0, label='chr')\n",
    "plt.plot(label_df[x0:x1].wrd*0.9 + 5.0, label='wrd')\n",
    "plt.title(\"signal and labels\")\n",
    "plt.legend()\n",
    "plt.grid()"
   ]
  },
  {
   "cell_type": "markdown",
   "metadata": {},
   "source": [
    "### Define dataset"
   ]
  },
  {
   "cell_type": "code",
   "execution_count": null,
   "metadata": {},
   "outputs": [],
   "source": [
    "import torch\n",
    "\n",
    "class MorsekeyingDataset(torch.utils.data.Dataset):\n",
    "    def __init__(self, SNR_dB=-23, nchars=132, nwords=27):\n",
    "        self.signal, self.label_df, self.seq_len = get_new_data(SNR_dB, nchars, nwords)\n",
    "        self.X = torch.FloatTensor(self.signal.values)\n",
    "        self.y = torch.FloatTensor(self.label_df.values)\n",
    "        \n",
    "    def __len__(self):\n",
    "        return self.X.__len__() - self.seq_len\n",
    "\n",
    "    def __getitem__(self, index):\n",
    "        return (self.X[index:index+self.seq_len], self.y[index+self.seq_len])\n",
    "    \n",
    "    def get_signal(self):\n",
    "        return self.signal\n",
    "    \n",
    "    def get_labels(self):\n",
    "        return self.label_df\n",
    "    \n",
    "    def get_seq_len(self):\n",
    "        return self.seq_len()"
   ]
  },
  {
   "cell_type": "markdown",
   "metadata": {},
   "source": [
    "### Define data loader"
   ]
  },
  {
   "cell_type": "code",
   "execution_count": null,
   "metadata": {},
   "outputs": [],
   "source": [
    "train_dataset = MorsekeyingDataset(-10, 132*4, 27*4)\n",
    "train_loader = torch.utils.data.DataLoader(train_dataset, batch_size=1, shuffle=False) # Batch size must be 1"
   ]
  },
  {
   "cell_type": "code",
   "execution_count": null,
   "metadata": {},
   "outputs": [],
   "source": [
    "signal = train_dataset.get_signal()\n",
    "label_df = train_dataset.get_labels()\n",
    "\n",
    "print(type(signal), signal.shape)\n",
    "print(type(label_df), label_df.shape)\n",
    "\n",
    "x0 = 0\n",
    "x1 = 1500\n",
    "\n",
    "plt.figure(figsize=(50,6))\n",
    "plt.plot(signal[x0:x1]*0.5, label=\"sig\")\n",
    "plt.plot(label_df[x0:x1].dit*0.9 + 1.0, label='dit')\n",
    "plt.plot(label_df[x0:x1].dah*0.9 + 2.0, label='dah')\n",
    "plt.plot(label_df[x0:x1].ele*0.9 + 3.0, label='ele')\n",
    "plt.plot(label_df[x0:x1].chr*0.9 + 4.0, label='chr')\n",
    "plt.plot(label_df[x0:x1].wrd*0.9 + 5.0, label='wrd')\n",
    "plt.title(\"signal and labels\")\n",
    "plt.legend()\n",
    "plt.grid()"
   ]
  },
  {
   "cell_type": "code",
   "execution_count": null,
   "metadata": {},
   "outputs": [],
   "source": [
    "it = iter(train_loader)\n",
    "X, y = next(it)\n",
    "print(X[0].shape, y[0].shape)\n",
    "print(X[0], y[0])\n",
    "X, y = next(it)\n",
    "print(X[0], y[0])"
   ]
  },
  {
   "cell_type": "code",
   "execution_count": null,
   "metadata": {},
   "outputs": [],
   "source": [
    "X_t = torch.rand(10)\n",
    "print(X_t.shape)\n",
    "X_t = X_t.view(-1, 1, 1)\n",
    "print(X_t.shape, X_t)"
   ]
  },
  {
   "cell_type": "code",
   "execution_count": null,
   "metadata": {},
   "outputs": [],
   "source": [
    "label_df.reindex()"
   ]
  },
  {
   "cell_type": "code",
   "execution_count": null,
   "metadata": {},
   "outputs": [],
   "source": []
  }
 ],
 "metadata": {
  "kernelspec": {
   "display_name": "Python 3",
   "language": "python",
   "name": "python3"
  },
  "language_info": {
   "codemirror_mode": {
    "name": "ipython",
    "version": 3
   },
   "file_extension": ".py",
   "mimetype": "text/x-python",
   "name": "python",
   "nbconvert_exporter": "python",
   "pygments_lexer": "ipython3",
   "version": "3.7.8"
  }
 },
 "nbformat": 4,
 "nbformat_minor": 4
}
